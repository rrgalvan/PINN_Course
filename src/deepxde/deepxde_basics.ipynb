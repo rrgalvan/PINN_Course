{
 "cells": [
  {
   "cell_type": "code",
   "execution_count": 2,
   "id": "8b51720a-a6eb-4677-8255-d9f0bd2d8059",
   "metadata": {},
   "outputs": [],
   "source": [
    "# DeepXDE Basics\n",
    "\n",
    "##### (c) J. Rafael Rodríguez Galván 2024"
   ]
  },
  {
   "cell_type": "code",
   "execution_count": null,
   "id": "789191f3-cc08-4ea5-a0f8-b2f0bd66f87b",
   "metadata": {},
   "outputs": [],
   "source": []
  }
 ],
 "metadata": {
  "kernelspec": {
   "display_name": "Python 3 (ipykernel)",
   "language": "python",
   "name": "python3"
  },
  "language_info": {
   "codemirror_mode": {
    "name": "ipython",
    "version": 3
   },
   "file_extension": ".py",
   "mimetype": "text/x-python",
   "name": "python",
   "nbconvert_exporter": "python",
   "pygments_lexer": "ipython3",
   "version": "3.12.3"
  }
 },
 "nbformat": 4,
 "nbformat_minor": 5
}
