{
  "cells": [
    {
      "cell_type": "markdown",
      "metadata": {},
      "source": [
        "---\n",
        "jupyter: python3\n",
        "---"
      ]
    },
    {
      "cell_type": "code",
      "metadata": {},
      "source": [
        "# DeepXDE Basics\n",
        "\n",
        "##### (c) J. Rafael Rodríguez Galván 2024"
      ],
      "execution_count": null,
      "outputs": []
    },
    {
      "cell_type": "code",
      "metadata": {},
      "source": [
        "#!pip install deepxde"
      ],
      "execution_count": null,
      "outputs": []
    },
    {
      "cell_type": "code",
      "metadata": {},
      "source": [
        "import deepxde as dde\n",
        "dde.backend.get_available_backend()"
      ],
      "execution_count": null,
      "outputs": []
    },
    {
      "cell_type": "markdown",
      "metadata": {},
      "source": [
        "## A simple ode\n",
        "Example from [DeepXDE web page](https://deepxde.readthedocs.io/en/latest/demos/pinn_forward/ode.system.html)\n",
        "\n",
        "\\begin{align}\n",
        "y_1' &= y_2,\\\\\n",
        "y_2' &= -y_1,\n",
        "\\end{align}\n",
        "with initial condition $(y_1(0), y_2(0))=(0,1)$.\n",
        "Exact solution: $(y_1(x), y_2(x))=(\\sin(x), \\cos(x))$."
      ]
    },
    {
      "cell_type": "code",
      "metadata": {},
      "source": [
        "\"\"\"Backend supported: tensorflow.compat.v1, tensorflow, pytorch, jax, paddle\"\"\"\n",
        "import deepxde as dde\n",
        "import numpy as np\n",
        "\n",
        "\n",
        "def ode_system(x, y):\n",
        "    \"\"\"ODE system.\n",
        "    dy1/dx = y2\n",
        "    dy2/dx = -y1\n",
        "    \"\"\"\n",
        "    # Most backends (see DeepXDE for more detais)\n",
        "    y1, y2 = y[:, 0:1], y[:, 1:]\n",
        "    dy1_x = dde.grad.jacobian(y, x, i=0)\n",
        "    dy2_x = dde.grad.jacobian(y, x, i=1)\n",
        "    return [dy1_x - y2, dy2_x + y1]\n",
        "\n",
        "\n",
        "def boundary(_, on_initial):\n",
        "    return on_initial\n",
        "\n",
        "\n",
        "def func(x):\n",
        "    \"\"\"\n",
        "    y1 = sin(x)\n",
        "    y2 = cos(x)\n",
        "    \"\"\"\n",
        "    return np.hstack((np.sin(x), np.cos(x)))\n",
        "\n",
        "\n",
        "geom = dde.geometry.TimeDomain(0, 10)\n",
        "ic1 = dde.icbc.IC(geom, lambda x: 0, boundary, component=0)\n",
        "ic2 = dde.icbc.IC(geom, lambda x: 1, boundary, component=1)\n",
        "data = dde.data.PDE(geom, ode_system, [ic1, ic2], 35, 2, solution=func, num_test=100)\n",
        "\n",
        "layer_size = [1] + [50] * 3 + [2]\n",
        "activation = \"tanh\"\n",
        "initializer = \"Glorot uniform\"\n",
        "net = dde.nn.FNN(layer_size, activation, initializer)\n",
        "\n",
        "model = dde.Model(data, net)\n",
        "model.compile(\"adam\", lr=0.001, metrics=[\"l2 relative error\"])\n",
        "losshistory, train_state = model.train(iterations=20000)\n",
        "\n",
        "dde.saveplot(losshistory, train_state, issave=True, isplot=True)"
      ],
      "execution_count": null,
      "outputs": []
    }
  ],
  "metadata": {
    "kernelspec": {
      "name": "python3",
      "language": "python",
      "display_name": "Python 3 (ipykernel)",
      "path": "/home/rrgalvan/.virtualenvs/deepxde/share/jupyter/kernels/python3"
    }
  },
  "nbformat": 4,
  "nbformat_minor": 4
}